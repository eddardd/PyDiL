{
 "cells": [
  {
   "cell_type": "code",
   "execution_count": 1,
   "id": "a683ac99",
   "metadata": {},
   "outputs": [],
   "source": [
    "import sys\n",
    "import math\n",
    "import torch\n",
    "import numpy as np\n",
    "import matplotlib.pyplot as plt"
   ]
  },
  {
   "cell_type": "code",
   "execution_count": 2,
   "id": "a38d6d25",
   "metadata": {},
   "outputs": [],
   "source": [
    "sys.path.append('../')"
   ]
  },
  {
   "cell_type": "code",
   "execution_count": null,
   "id": "3654d0d0",
   "metadata": {},
   "outputs": [],
   "source": [
    "from pydil.optimal_transport import OptimalTransportSolver\n",
    "from pydil.optimal_transport import EmpiricalBarycenterSolver\n",
    "from pydil.optimal_transport import JointWassersteinDistance\n",
    "\n",
    "from pydil.federated_dictionary import DictionaryClient\n",
    "from pydil.federated_dictionary import LabeledEmpiricalMeasure\n",
    "from pydil.federated_dictionary import LabeledEmpiricalDictionary\n",
    "\n",
    "from pydil.utils import visualize_gmm"
   ]
  }
 ],
 "metadata": {
  "kernelspec": {
   "display_name": "Python [conda env:OptimalTransport] *",
   "language": "python",
   "name": "conda-env-OptimalTransport-py"
  },
  "language_info": {
   "codemirror_mode": {
    "name": "ipython",
    "version": 3
   },
   "file_extension": ".py",
   "mimetype": "text/x-python",
   "name": "python",
   "nbconvert_exporter": "python",
   "pygments_lexer": "ipython3",
   "version": "3.8.19"
  }
 },
 "nbformat": 4,
 "nbformat_minor": 5
}
